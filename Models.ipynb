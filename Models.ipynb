{
 "cells": [
  {
   "cell_type": "code",
   "execution_count": 206,
   "metadata": {},
   "outputs": [],
   "source": [
    "import pandas as pd\n",
    "import seaborn as sns\n",
    "import numpy as np\n",
    "import matplotlib.pyplot as plt\n",
    "from sklearn.preprocessing import StandardScaler\n",
    "from sklearn.decomposition import PCA\n",
    "from sklearn.model_selection import train_test_split\n",
    "from sklearn.linear_model import LogisticRegression\n",
    "from sklearn.metrics import accuracy_score,roc_curve,confusion_matrix,precision_recall_curve,auc,roc_auc_score,recall_score,classification_report"
   ]
  },
  {
   "cell_type": "markdown",
   "metadata": {},
   "source": [
    "### Air Pressure System Failures in Scania Trucks\n",
    "\n",
    "The task in this dataset is to predict failures and minimize costs based on sensor readings. The training set contains 60000 examples in total in which 59000 belong to the negative class and 1000 positive class. The test set contains 16000 examples. There are 171 attributes per record.\n",
    "\n",
    "To solve this problem, this notebook is organized as follows:\n",
    "* Data analysis: check the atributes values, handle missing data (if any), outliers and correlation matrix\n",
    "* PCA: since the dataset has 171 atributes, we are going to choose the more important ones for classification\n",
    "* Classification: we are going to check performance of LR, RF, SVM, Random Forest and XGBoost"
   ]
  },
  {
   "cell_type": "markdown",
   "metadata": {},
   "source": [
    "#### Step 1 - Data analysis\n",
    "\n",
    "1. Data description\n",
    "\n",
    "The data has 170 atributes and one target class. The class has categorical values (neg and pos). When reading the dataset and analysing the first 5 rows, we can see that there are already missing values on some atributes. Hence, I checked where there are NA values and fill them with data mean. When doing that, we can see that, except atribute aa_000, all the atributes have null values. \n",
    "\n",
    "2. Data statistics\n",
    "\n",
    "Also, when seeing the data statistics description, there significative difference between min-max values in some atributes like eg_000 (min = 0 and max = 1146), and aa_000 (min = 0 and max = 2.746564e+06). Hence, it is important to normalize values before training. With data description, we can also see the presence of possible outliers. For instance, atribute ad_000 has a maximum value wich represents the double of the std value. We can confirm that by ploting a boxplot of some atributes.\n",
    "\n",
    "In the same fashion, if we visualize the boxplot of the last two atributes (ef_000 and eg_000), we can see the presence of possible outliers.\n",
    "\n",
    "3. Correlation Matrix\n",
    "\n",
    "Lastly, we can plot a correlation matrix to see if there are correlate atributes. In this matrix, values closer to 1 are highly correlated.  "
   ]
  },
  {
   "cell_type": "markdown",
   "metadata": {},
   "source": [
    "#### Read dataset and check the first 5 rows"
   ]
  },
  {
   "cell_type": "code",
   "execution_count": 181,
   "metadata": {},
   "outputs": [
    {
     "data": {
      "text/html": [
       "<div>\n",
       "<style scoped>\n",
       "    .dataframe tbody tr th:only-of-type {\n",
       "        vertical-align: middle;\n",
       "    }\n",
       "\n",
       "    .dataframe tbody tr th {\n",
       "        vertical-align: top;\n",
       "    }\n",
       "\n",
       "    .dataframe thead th {\n",
       "        text-align: right;\n",
       "    }\n",
       "</style>\n",
       "<table border=\"1\" class=\"dataframe\">\n",
       "  <thead>\n",
       "    <tr style=\"text-align: right;\">\n",
       "      <th></th>\n",
       "      <th>class</th>\n",
       "      <th>aa_000</th>\n",
       "      <th>ab_000</th>\n",
       "      <th>ac_000</th>\n",
       "      <th>ad_000</th>\n",
       "      <th>ae_000</th>\n",
       "      <th>af_000</th>\n",
       "      <th>ag_000</th>\n",
       "      <th>ag_001</th>\n",
       "      <th>ag_002</th>\n",
       "      <th>...</th>\n",
       "      <th>ee_002</th>\n",
       "      <th>ee_003</th>\n",
       "      <th>ee_004</th>\n",
       "      <th>ee_005</th>\n",
       "      <th>ee_006</th>\n",
       "      <th>ee_007</th>\n",
       "      <th>ee_008</th>\n",
       "      <th>ee_009</th>\n",
       "      <th>ef_000</th>\n",
       "      <th>eg_000</th>\n",
       "    </tr>\n",
       "  </thead>\n",
       "  <tbody>\n",
       "    <tr>\n",
       "      <th>0</th>\n",
       "      <td>neg</td>\n",
       "      <td>76698</td>\n",
       "      <td>NaN</td>\n",
       "      <td>2.130706e+09</td>\n",
       "      <td>280.0</td>\n",
       "      <td>0.0</td>\n",
       "      <td>0.0</td>\n",
       "      <td>0.0</td>\n",
       "      <td>0.0</td>\n",
       "      <td>0.0</td>\n",
       "      <td>...</td>\n",
       "      <td>1240520.0</td>\n",
       "      <td>493384.0</td>\n",
       "      <td>721044.0</td>\n",
       "      <td>469792.0</td>\n",
       "      <td>339156.0</td>\n",
       "      <td>157956.0</td>\n",
       "      <td>73224.0</td>\n",
       "      <td>0.0</td>\n",
       "      <td>0.0</td>\n",
       "      <td>0.0</td>\n",
       "    </tr>\n",
       "    <tr>\n",
       "      <th>1</th>\n",
       "      <td>neg</td>\n",
       "      <td>33058</td>\n",
       "      <td>NaN</td>\n",
       "      <td>0.000000e+00</td>\n",
       "      <td>NaN</td>\n",
       "      <td>0.0</td>\n",
       "      <td>0.0</td>\n",
       "      <td>0.0</td>\n",
       "      <td>0.0</td>\n",
       "      <td>0.0</td>\n",
       "      <td>...</td>\n",
       "      <td>421400.0</td>\n",
       "      <td>178064.0</td>\n",
       "      <td>293306.0</td>\n",
       "      <td>245416.0</td>\n",
       "      <td>133654.0</td>\n",
       "      <td>81140.0</td>\n",
       "      <td>97576.0</td>\n",
       "      <td>1500.0</td>\n",
       "      <td>0.0</td>\n",
       "      <td>0.0</td>\n",
       "    </tr>\n",
       "    <tr>\n",
       "      <th>2</th>\n",
       "      <td>neg</td>\n",
       "      <td>41040</td>\n",
       "      <td>NaN</td>\n",
       "      <td>2.280000e+02</td>\n",
       "      <td>100.0</td>\n",
       "      <td>0.0</td>\n",
       "      <td>0.0</td>\n",
       "      <td>0.0</td>\n",
       "      <td>0.0</td>\n",
       "      <td>0.0</td>\n",
       "      <td>...</td>\n",
       "      <td>277378.0</td>\n",
       "      <td>159812.0</td>\n",
       "      <td>423992.0</td>\n",
       "      <td>409564.0</td>\n",
       "      <td>320746.0</td>\n",
       "      <td>158022.0</td>\n",
       "      <td>95128.0</td>\n",
       "      <td>514.0</td>\n",
       "      <td>0.0</td>\n",
       "      <td>0.0</td>\n",
       "    </tr>\n",
       "    <tr>\n",
       "      <th>3</th>\n",
       "      <td>neg</td>\n",
       "      <td>12</td>\n",
       "      <td>0.0</td>\n",
       "      <td>7.000000e+01</td>\n",
       "      <td>66.0</td>\n",
       "      <td>0.0</td>\n",
       "      <td>10.0</td>\n",
       "      <td>0.0</td>\n",
       "      <td>0.0</td>\n",
       "      <td>0.0</td>\n",
       "      <td>...</td>\n",
       "      <td>240.0</td>\n",
       "      <td>46.0</td>\n",
       "      <td>58.0</td>\n",
       "      <td>44.0</td>\n",
       "      <td>10.0</td>\n",
       "      <td>0.0</td>\n",
       "      <td>0.0</td>\n",
       "      <td>0.0</td>\n",
       "      <td>4.0</td>\n",
       "      <td>32.0</td>\n",
       "    </tr>\n",
       "    <tr>\n",
       "      <th>4</th>\n",
       "      <td>neg</td>\n",
       "      <td>60874</td>\n",
       "      <td>NaN</td>\n",
       "      <td>1.368000e+03</td>\n",
       "      <td>458.0</td>\n",
       "      <td>0.0</td>\n",
       "      <td>0.0</td>\n",
       "      <td>0.0</td>\n",
       "      <td>0.0</td>\n",
       "      <td>0.0</td>\n",
       "      <td>...</td>\n",
       "      <td>622012.0</td>\n",
       "      <td>229790.0</td>\n",
       "      <td>405298.0</td>\n",
       "      <td>347188.0</td>\n",
       "      <td>286954.0</td>\n",
       "      <td>311560.0</td>\n",
       "      <td>433954.0</td>\n",
       "      <td>1218.0</td>\n",
       "      <td>0.0</td>\n",
       "      <td>0.0</td>\n",
       "    </tr>\n",
       "  </tbody>\n",
       "</table>\n",
       "<p>5 rows × 171 columns</p>\n",
       "</div>"
      ],
      "text/plain": [
       "  class  aa_000  ab_000        ac_000  ad_000  ae_000  af_000  ag_000  ag_001  \\\n",
       "0   neg   76698     NaN  2.130706e+09   280.0     0.0     0.0     0.0     0.0   \n",
       "1   neg   33058     NaN  0.000000e+00     NaN     0.0     0.0     0.0     0.0   \n",
       "2   neg   41040     NaN  2.280000e+02   100.0     0.0     0.0     0.0     0.0   \n",
       "3   neg      12     0.0  7.000000e+01    66.0     0.0    10.0     0.0     0.0   \n",
       "4   neg   60874     NaN  1.368000e+03   458.0     0.0     0.0     0.0     0.0   \n",
       "\n",
       "   ag_002  ...     ee_002    ee_003    ee_004    ee_005    ee_006    ee_007  \\\n",
       "0     0.0  ...  1240520.0  493384.0  721044.0  469792.0  339156.0  157956.0   \n",
       "1     0.0  ...   421400.0  178064.0  293306.0  245416.0  133654.0   81140.0   \n",
       "2     0.0  ...   277378.0  159812.0  423992.0  409564.0  320746.0  158022.0   \n",
       "3     0.0  ...      240.0      46.0      58.0      44.0      10.0       0.0   \n",
       "4     0.0  ...   622012.0  229790.0  405298.0  347188.0  286954.0  311560.0   \n",
       "\n",
       "     ee_008  ee_009  ef_000  eg_000  \n",
       "0   73224.0     0.0     0.0     0.0  \n",
       "1   97576.0  1500.0     0.0     0.0  \n",
       "2   95128.0   514.0     0.0     0.0  \n",
       "3       0.0     0.0     4.0    32.0  \n",
       "4  433954.0  1218.0     0.0     0.0  \n",
       "\n",
       "[5 rows x 171 columns]"
      ]
     },
     "execution_count": 181,
     "metadata": {},
     "output_type": "execute_result"
    }
   ],
   "source": [
    "data = pd.read_csv(\"data/aps_failure_training_set.csv\", na_values=\"na\")\n",
    "data.head()"
   ]
  },
  {
   "cell_type": "markdown",
   "metadata": {},
   "source": [
    "#### Checking missing data\n"
   ]
  },
  {
   "cell_type": "code",
   "execution_count": 182,
   "metadata": {},
   "outputs": [
    {
     "data": {
      "text/plain": [
       "class     False\n",
       "aa_000    False\n",
       "ab_000     True\n",
       "ac_000     True\n",
       "ad_000     True\n",
       "          ...  \n",
       "ee_007     True\n",
       "ee_008     True\n",
       "ee_009     True\n",
       "ef_000     True\n",
       "eg_000     True\n",
       "Length: 171, dtype: bool"
      ]
     },
     "execution_count": 182,
     "metadata": {},
     "output_type": "execute_result"
    }
   ],
   "source": [
    "data.isnull().any()"
   ]
  },
  {
   "cell_type": "markdown",
   "metadata": {},
   "source": [
    "#### Filling NA values with the data mean\n"
   ]
  },
  {
   "cell_type": "code",
   "execution_count": 183,
   "metadata": {},
   "outputs": [],
   "source": [
    "data= data.fillna(data.mean()).dropna(axis =1 , how ='all')"
   ]
  },
  {
   "cell_type": "markdown",
   "metadata": {},
   "source": [
    "#### See data after dealing with missing values\n"
   ]
  },
  {
   "cell_type": "code",
   "execution_count": 184,
   "metadata": {},
   "outputs": [
    {
     "data": {
      "text/plain": [
       "class     False\n",
       "aa_000    False\n",
       "ab_000    False\n",
       "ac_000    False\n",
       "ad_000    False\n",
       "          ...  \n",
       "ee_007    False\n",
       "ee_008    False\n",
       "ee_009    False\n",
       "ef_000    False\n",
       "eg_000    False\n",
       "Length: 171, dtype: bool"
      ]
     },
     "execution_count": 184,
     "metadata": {},
     "output_type": "execute_result"
    }
   ],
   "source": [
    "data.isnull().any()"
   ]
  },
  {
   "cell_type": "markdown",
   "metadata": {},
   "source": [
    "#### Data normalization"
   ]
  },
  {
   "cell_type": "code",
   "execution_count": 185,
   "metadata": {},
   "outputs": [],
   "source": [
    "X = data.iloc[:,data.columns != 'class']\n",
    "Y = data['class']"
   ]
  },
  {
   "cell_type": "code",
   "execution_count": 186,
   "metadata": {},
   "outputs": [],
   "source": [
    "scaler = StandardScaler()\n",
    "\n",
    "scaler.fit(X)\n",
    "\n",
    "X = scaler.transform(X)"
   ]
  },
  {
   "cell_type": "markdown",
   "metadata": {},
   "source": [
    "#### Statistics description of the data\n"
   ]
  },
  {
   "cell_type": "code",
   "execution_count": 187,
   "metadata": {},
   "outputs": [
    {
     "data": {
      "text/html": [
       "<div>\n",
       "<style scoped>\n",
       "    .dataframe tbody tr th:only-of-type {\n",
       "        vertical-align: middle;\n",
       "    }\n",
       "\n",
       "    .dataframe tbody tr th {\n",
       "        vertical-align: top;\n",
       "    }\n",
       "\n",
       "    .dataframe thead th {\n",
       "        text-align: right;\n",
       "    }\n",
       "</style>\n",
       "<table border=\"1\" class=\"dataframe\">\n",
       "  <thead>\n",
       "    <tr style=\"text-align: right;\">\n",
       "      <th></th>\n",
       "      <th>aa_000</th>\n",
       "      <th>ab_000</th>\n",
       "      <th>ac_000</th>\n",
       "      <th>ad_000</th>\n",
       "      <th>ae_000</th>\n",
       "      <th>af_000</th>\n",
       "      <th>ag_000</th>\n",
       "      <th>ag_001</th>\n",
       "      <th>ag_002</th>\n",
       "      <th>ag_003</th>\n",
       "      <th>...</th>\n",
       "      <th>ee_002</th>\n",
       "      <th>ee_003</th>\n",
       "      <th>ee_004</th>\n",
       "      <th>ee_005</th>\n",
       "      <th>ee_006</th>\n",
       "      <th>ee_007</th>\n",
       "      <th>ee_008</th>\n",
       "      <th>ee_009</th>\n",
       "      <th>ef_000</th>\n",
       "      <th>eg_000</th>\n",
       "    </tr>\n",
       "  </thead>\n",
       "  <tbody>\n",
       "    <tr>\n",
       "      <th>count</th>\n",
       "      <td>6.000000e+04</td>\n",
       "      <td>60000.000000</td>\n",
       "      <td>6.000000e+04</td>\n",
       "      <td>6.000000e+04</td>\n",
       "      <td>60000.000000</td>\n",
       "      <td>60000.000000</td>\n",
       "      <td>6.000000e+04</td>\n",
       "      <td>6.000000e+04</td>\n",
       "      <td>6.000000e+04</td>\n",
       "      <td>6.000000e+04</td>\n",
       "      <td>...</td>\n",
       "      <td>6.000000e+04</td>\n",
       "      <td>6.000000e+04</td>\n",
       "      <td>6.000000e+04</td>\n",
       "      <td>6.000000e+04</td>\n",
       "      <td>6.000000e+04</td>\n",
       "      <td>6.000000e+04</td>\n",
       "      <td>6.000000e+04</td>\n",
       "      <td>6.000000e+04</td>\n",
       "      <td>60000.000000</td>\n",
       "      <td>60000.000000</td>\n",
       "    </tr>\n",
       "    <tr>\n",
       "      <th>mean</th>\n",
       "      <td>5.933650e+04</td>\n",
       "      <td>0.713189</td>\n",
       "      <td>3.560143e+08</td>\n",
       "      <td>1.906206e+05</td>\n",
       "      <td>6.819130</td>\n",
       "      <td>11.006817</td>\n",
       "      <td>2.216364e+02</td>\n",
       "      <td>9.757223e+02</td>\n",
       "      <td>8.606015e+03</td>\n",
       "      <td>8.859128e+04</td>\n",
       "      <td>...</td>\n",
       "      <td>4.454897e+05</td>\n",
       "      <td>2.111264e+05</td>\n",
       "      <td>4.457343e+05</td>\n",
       "      <td>3.939462e+05</td>\n",
       "      <td>3.330582e+05</td>\n",
       "      <td>3.462714e+05</td>\n",
       "      <td>1.387300e+05</td>\n",
       "      <td>8.388915e+03</td>\n",
       "      <td>0.090579</td>\n",
       "      <td>0.212756</td>\n",
       "    </tr>\n",
       "    <tr>\n",
       "      <th>std</th>\n",
       "      <td>1.454301e+05</td>\n",
       "      <td>1.660588</td>\n",
       "      <td>7.724678e+08</td>\n",
       "      <td>3.504515e+07</td>\n",
       "      <td>158.142022</td>\n",
       "      <td>205.375337</td>\n",
       "      <td>2.036363e+04</td>\n",
       "      <td>3.400875e+04</td>\n",
       "      <td>1.494791e+05</td>\n",
       "      <td>7.574598e+05</td>\n",
       "      <td>...</td>\n",
       "      <td>1.149060e+06</td>\n",
       "      <td>5.402722e+05</td>\n",
       "      <td>1.161763e+06</td>\n",
       "      <td>1.114758e+06</td>\n",
       "      <td>1.063164e+06</td>\n",
       "      <td>1.718366e+06</td>\n",
       "      <td>4.469894e+05</td>\n",
       "      <td>4.720424e+04</td>\n",
       "      <td>4.268529</td>\n",
       "      <td>8.627929</td>\n",
       "    </tr>\n",
       "    <tr>\n",
       "      <th>min</th>\n",
       "      <td>0.000000e+00</td>\n",
       "      <td>0.000000</td>\n",
       "      <td>0.000000e+00</td>\n",
       "      <td>0.000000e+00</td>\n",
       "      <td>0.000000</td>\n",
       "      <td>0.000000</td>\n",
       "      <td>0.000000e+00</td>\n",
       "      <td>0.000000e+00</td>\n",
       "      <td>0.000000e+00</td>\n",
       "      <td>0.000000e+00</td>\n",
       "      <td>...</td>\n",
       "      <td>0.000000e+00</td>\n",
       "      <td>0.000000e+00</td>\n",
       "      <td>0.000000e+00</td>\n",
       "      <td>0.000000e+00</td>\n",
       "      <td>0.000000e+00</td>\n",
       "      <td>0.000000e+00</td>\n",
       "      <td>0.000000e+00</td>\n",
       "      <td>0.000000e+00</td>\n",
       "      <td>0.000000</td>\n",
       "      <td>0.000000</td>\n",
       "    </tr>\n",
       "    <tr>\n",
       "      <th>25%</th>\n",
       "      <td>8.340000e+02</td>\n",
       "      <td>0.713189</td>\n",
       "      <td>2.000000e+01</td>\n",
       "      <td>4.200000e+01</td>\n",
       "      <td>0.000000</td>\n",
       "      <td>0.000000</td>\n",
       "      <td>0.000000e+00</td>\n",
       "      <td>0.000000e+00</td>\n",
       "      <td>0.000000e+00</td>\n",
       "      <td>0.000000e+00</td>\n",
       "      <td>...</td>\n",
       "      <td>3.033500e+03</td>\n",
       "      <td>1.204000e+03</td>\n",
       "      <td>2.848500e+03</td>\n",
       "      <td>3.839000e+03</td>\n",
       "      <td>5.600000e+02</td>\n",
       "      <td>1.180000e+02</td>\n",
       "      <td>0.000000e+00</td>\n",
       "      <td>0.000000e+00</td>\n",
       "      <td>0.000000</td>\n",
       "      <td>0.000000</td>\n",
       "    </tr>\n",
       "    <tr>\n",
       "      <th>50%</th>\n",
       "      <td>3.077600e+04</td>\n",
       "      <td>0.713189</td>\n",
       "      <td>1.880000e+02</td>\n",
       "      <td>2.880000e+02</td>\n",
       "      <td>0.000000</td>\n",
       "      <td>0.000000</td>\n",
       "      <td>0.000000e+00</td>\n",
       "      <td>0.000000e+00</td>\n",
       "      <td>0.000000e+00</td>\n",
       "      <td>0.000000e+00</td>\n",
       "      <td>...</td>\n",
       "      <td>2.397270e+05</td>\n",
       "      <td>1.148530e+05</td>\n",
       "      <td>2.283220e+05</td>\n",
       "      <td>1.960600e+05</td>\n",
       "      <td>9.976600e+04</td>\n",
       "      <td>4.358700e+04</td>\n",
       "      <td>4.474000e+03</td>\n",
       "      <td>0.000000e+00</td>\n",
       "      <td>0.000000</td>\n",
       "      <td>0.000000</td>\n",
       "    </tr>\n",
       "    <tr>\n",
       "      <th>75%</th>\n",
       "      <td>4.866800e+04</td>\n",
       "      <td>0.713189</td>\n",
       "      <td>1.686000e+03</td>\n",
       "      <td>8.426500e+03</td>\n",
       "      <td>0.000000</td>\n",
       "      <td>0.000000</td>\n",
       "      <td>0.000000e+00</td>\n",
       "      <td>0.000000e+00</td>\n",
       "      <td>0.000000e+00</td>\n",
       "      <td>0.000000e+00</td>\n",
       "      <td>...</td>\n",
       "      <td>4.454897e+05</td>\n",
       "      <td>2.164440e+05</td>\n",
       "      <td>4.624655e+05</td>\n",
       "      <td>4.003010e+05</td>\n",
       "      <td>2.833455e+05</td>\n",
       "      <td>1.732245e+05</td>\n",
       "      <td>1.387300e+05</td>\n",
       "      <td>2.366000e+03</td>\n",
       "      <td>0.000000</td>\n",
       "      <td>0.000000</td>\n",
       "    </tr>\n",
       "    <tr>\n",
       "      <th>max</th>\n",
       "      <td>2.746564e+06</td>\n",
       "      <td>204.000000</td>\n",
       "      <td>2.130707e+09</td>\n",
       "      <td>8.584298e+09</td>\n",
       "      <td>21050.000000</td>\n",
       "      <td>20070.000000</td>\n",
       "      <td>3.376892e+06</td>\n",
       "      <td>4.109372e+06</td>\n",
       "      <td>1.055286e+07</td>\n",
       "      <td>6.340207e+07</td>\n",
       "      <td>...</td>\n",
       "      <td>7.793393e+07</td>\n",
       "      <td>3.775839e+07</td>\n",
       "      <td>9.715238e+07</td>\n",
       "      <td>5.743524e+07</td>\n",
       "      <td>3.160781e+07</td>\n",
       "      <td>1.195801e+08</td>\n",
       "      <td>1.926740e+07</td>\n",
       "      <td>3.810078e+06</td>\n",
       "      <td>482.000000</td>\n",
       "      <td>1146.000000</td>\n",
       "    </tr>\n",
       "  </tbody>\n",
       "</table>\n",
       "<p>8 rows × 170 columns</p>\n",
       "</div>"
      ],
      "text/plain": [
       "             aa_000        ab_000        ac_000        ad_000        ae_000  \\\n",
       "count  6.000000e+04  60000.000000  6.000000e+04  6.000000e+04  60000.000000   \n",
       "mean   5.933650e+04      0.713189  3.560143e+08  1.906206e+05      6.819130   \n",
       "std    1.454301e+05      1.660588  7.724678e+08  3.504515e+07    158.142022   \n",
       "min    0.000000e+00      0.000000  0.000000e+00  0.000000e+00      0.000000   \n",
       "25%    8.340000e+02      0.713189  2.000000e+01  4.200000e+01      0.000000   \n",
       "50%    3.077600e+04      0.713189  1.880000e+02  2.880000e+02      0.000000   \n",
       "75%    4.866800e+04      0.713189  1.686000e+03  8.426500e+03      0.000000   \n",
       "max    2.746564e+06    204.000000  2.130707e+09  8.584298e+09  21050.000000   \n",
       "\n",
       "             af_000        ag_000        ag_001        ag_002        ag_003  \\\n",
       "count  60000.000000  6.000000e+04  6.000000e+04  6.000000e+04  6.000000e+04   \n",
       "mean      11.006817  2.216364e+02  9.757223e+02  8.606015e+03  8.859128e+04   \n",
       "std      205.375337  2.036363e+04  3.400875e+04  1.494791e+05  7.574598e+05   \n",
       "min        0.000000  0.000000e+00  0.000000e+00  0.000000e+00  0.000000e+00   \n",
       "25%        0.000000  0.000000e+00  0.000000e+00  0.000000e+00  0.000000e+00   \n",
       "50%        0.000000  0.000000e+00  0.000000e+00  0.000000e+00  0.000000e+00   \n",
       "75%        0.000000  0.000000e+00  0.000000e+00  0.000000e+00  0.000000e+00   \n",
       "max    20070.000000  3.376892e+06  4.109372e+06  1.055286e+07  6.340207e+07   \n",
       "\n",
       "       ...        ee_002        ee_003        ee_004        ee_005  \\\n",
       "count  ...  6.000000e+04  6.000000e+04  6.000000e+04  6.000000e+04   \n",
       "mean   ...  4.454897e+05  2.111264e+05  4.457343e+05  3.939462e+05   \n",
       "std    ...  1.149060e+06  5.402722e+05  1.161763e+06  1.114758e+06   \n",
       "min    ...  0.000000e+00  0.000000e+00  0.000000e+00  0.000000e+00   \n",
       "25%    ...  3.033500e+03  1.204000e+03  2.848500e+03  3.839000e+03   \n",
       "50%    ...  2.397270e+05  1.148530e+05  2.283220e+05  1.960600e+05   \n",
       "75%    ...  4.454897e+05  2.164440e+05  4.624655e+05  4.003010e+05   \n",
       "max    ...  7.793393e+07  3.775839e+07  9.715238e+07  5.743524e+07   \n",
       "\n",
       "             ee_006        ee_007        ee_008        ee_009        ef_000  \\\n",
       "count  6.000000e+04  6.000000e+04  6.000000e+04  6.000000e+04  60000.000000   \n",
       "mean   3.330582e+05  3.462714e+05  1.387300e+05  8.388915e+03      0.090579   \n",
       "std    1.063164e+06  1.718366e+06  4.469894e+05  4.720424e+04      4.268529   \n",
       "min    0.000000e+00  0.000000e+00  0.000000e+00  0.000000e+00      0.000000   \n",
       "25%    5.600000e+02  1.180000e+02  0.000000e+00  0.000000e+00      0.000000   \n",
       "50%    9.976600e+04  4.358700e+04  4.474000e+03  0.000000e+00      0.000000   \n",
       "75%    2.833455e+05  1.732245e+05  1.387300e+05  2.366000e+03      0.000000   \n",
       "max    3.160781e+07  1.195801e+08  1.926740e+07  3.810078e+06    482.000000   \n",
       "\n",
       "             eg_000  \n",
       "count  60000.000000  \n",
       "mean       0.212756  \n",
       "std        8.627929  \n",
       "min        0.000000  \n",
       "25%        0.000000  \n",
       "50%        0.000000  \n",
       "75%        0.000000  \n",
       "max     1146.000000  \n",
       "\n",
       "[8 rows x 170 columns]"
      ]
     },
     "execution_count": 187,
     "metadata": {},
     "output_type": "execute_result"
    }
   ],
   "source": [
    "data.describe()"
   ]
  },
  {
   "cell_type": "markdown",
   "metadata": {},
   "source": [
    "#### Boxplot"
   ]
  },
  {
   "cell_type": "code",
   "execution_count": 188,
   "metadata": {},
   "outputs": [
    {
     "data": {
      "text/plain": [
       "<matplotlib.axes._subplots.AxesSubplot at 0x152851cbba8>"
      ]
     },
     "execution_count": 188,
     "metadata": {},
     "output_type": "execute_result"
    },
    {
     "data": {
      "image/png": "[encoded data removed]",
      "text/plain": [
       "<Figure size 432x288 with 1 Axes>"
      ]
     },
     "metadata": {
      "needs_background": "light"
     },
     "output_type": "display_data"
    }
   ],
   "source": [
    "data.iloc[:,:5].boxplot() ### first 5 atributes"
   ]
  },
  {
   "cell_type": "code",
   "execution_count": 189,
   "metadata": {},
   "outputs": [
    {
     "data": {
      "text/plain": [
       "<matplotlib.axes._subplots.AxesSubplot at 0x1531d6f1780>"
      ]
     },
     "execution_count": 189,
     "metadata": {},
     "output_type": "execute_result"
    },
    {
     "data": {
      "image/png": "[encoded data removed]",
      "text/plain": [
       "<Figure size 432x288 with 1 Axes>"
      ]
     },
     "metadata": {
      "needs_background": "light"
     },
     "output_type": "display_data"
    }
   ],
   "source": [
    "data.iloc[:,-2:].boxplot() ### Last 2 atributes"
   ]
  },
  {
   "cell_type": "markdown",
   "metadata": {},
   "source": [
    "#### Correlation Matrix"
   ]
  },
  {
   "cell_type": "code",
   "execution_count": 190,
   "metadata": {},
   "outputs": [
    {
     "data": {
      "text/plain": [
       "<matplotlib.axes._subplots.AxesSubplot at 0x1528ba000f0>"
      ]
     },
     "execution_count": 190,
     "metadata": {},
     "output_type": "execute_result"
    },
    {
     "data": {
      "image/png": "[encoded data removed]",
      "text/plain": [
       "<Figure size 792x648 with 2 Axes>"
      ]
     },
     "metadata": {
      "needs_background": "light"
     },
     "output_type": "display_data"
    }
   ],
   "source": [
    "# Compute the correlation matrix\n",
    "corr = data.corr()\n",
    "\n",
    "# Generate a mask for the upper triangle\n",
    "mask = np.triu(np.ones_like(corr, dtype=np.bool))\n",
    "\n",
    "# Set up the matplotlib figure\n",
    "f, ax = plt.subplots(figsize=(11, 9))\n",
    "\n",
    "# Generate a custom diverging colormap\n",
    "cmap = sns.diverging_palette(220, 10, as_cmap=True)\n",
    "\n",
    "# Draw the heatmap with the mask and correct aspect ratio\n",
    "sns.heatmap(corr, mask=mask, cmap=cmap, vmax=1, center=0,\n",
    "            square=True, linewidths=.5, cbar_kws={\"shrink\": .5})"
   ]
  },
  {
   "cell_type": "markdown",
   "metadata": {},
   "source": [
    "#### Class frequency"
   ]
  },
  {
   "cell_type": "code",
   "execution_count": 191,
   "metadata": {},
   "outputs": [
    {
     "data": {
      "image/png": "[encoded data removed]",
      "text/plain": [
       "<Figure size 432x288 with 1 Axes>"
      ]
     },
     "metadata": {
      "needs_background": "light"
     },
     "output_type": "display_data"
    }
   ],
   "source": [
    "ax = sns.countplot(x=\"class\", data=data)"
   ]
  },
  {
   "cell_type": "markdown",
   "metadata": {},
   "source": [
    "#### Step 2 - PCA\n",
    "\n",
    "As we have a lot of possible correlated atributes, we can apply a PCA to return the most important ones. By using a PCA with 95% of data variance, we reduced the number of atributes to 82. "
   ]
  },
  {
   "cell_type": "code",
   "execution_count": 192,
   "metadata": {},
   "outputs": [
    {
     "data": {
      "text/plain": [
       "82"
      ]
     },
     "execution_count": 192,
     "metadata": {},
     "output_type": "execute_result"
    }
   ],
   "source": [
    "pca = PCA(0.95)\n",
    "\n",
    "pca.fit(X)\n",
    "\n",
    "pca.n_components_\n"
   ]
  },
  {
   "cell_type": "code",
   "execution_count": 193,
   "metadata": {},
   "outputs": [],
   "source": [
    "X_ = pca.transform(X)\n",
    "\n",
    "df_X= pd.DataFrame(X_)\n"
   ]
  },
  {
   "cell_type": "code",
   "execution_count": 194,
   "metadata": {},
   "outputs": [
    {
     "data": {
      "text/html": [
       "<div>\n",
       "<style scoped>\n",
       "    .dataframe tbody tr th:only-of-type {\n",
       "        vertical-align: middle;\n",
       "    }\n",
       "\n",
       "    .dataframe tbody tr th {\n",
       "        vertical-align: top;\n",
       "    }\n",
       "\n",
       "    .dataframe thead th {\n",
       "        text-align: right;\n",
       "    }\n",
       "</style>\n",
       "<table border=\"1\" class=\"dataframe\">\n",
       "  <thead>\n",
       "    <tr style=\"text-align: right;\">\n",
       "      <th></th>\n",
       "      <th>0</th>\n",
       "      <th>1</th>\n",
       "      <th>2</th>\n",
       "      <th>3</th>\n",
       "      <th>4</th>\n",
       "      <th>5</th>\n",
       "      <th>6</th>\n",
       "      <th>7</th>\n",
       "      <th>8</th>\n",
       "      <th>9</th>\n",
       "      <th>...</th>\n",
       "      <th>72</th>\n",
       "      <th>73</th>\n",
       "      <th>74</th>\n",
       "      <th>75</th>\n",
       "      <th>76</th>\n",
       "      <th>77</th>\n",
       "      <th>78</th>\n",
       "      <th>79</th>\n",
       "      <th>80</th>\n",
       "      <th>81</th>\n",
       "    </tr>\n",
       "  </thead>\n",
       "  <tbody>\n",
       "    <tr>\n",
       "      <th>0</th>\n",
       "      <td>2.407533</td>\n",
       "      <td>-1.275187</td>\n",
       "      <td>-1.550152</td>\n",
       "      <td>0.980419</td>\n",
       "      <td>-0.083018</td>\n",
       "      <td>0.754907</td>\n",
       "      <td>-0.471116</td>\n",
       "      <td>-0.001142</td>\n",
       "      <td>-0.185602</td>\n",
       "      <td>-1.329810</td>\n",
       "      <td>...</td>\n",
       "      <td>-0.299811</td>\n",
       "      <td>0.189246</td>\n",
       "      <td>-0.115952</td>\n",
       "      <td>-0.649872</td>\n",
       "      <td>-0.098207</td>\n",
       "      <td>0.501070</td>\n",
       "      <td>0.461358</td>\n",
       "      <td>0.106849</td>\n",
       "      <td>-0.152670</td>\n",
       "      <td>-0.111830</td>\n",
       "    </tr>\n",
       "    <tr>\n",
       "      <th>1</th>\n",
       "      <td>-0.610388</td>\n",
       "      <td>-0.481413</td>\n",
       "      <td>0.008950</td>\n",
       "      <td>0.121946</td>\n",
       "      <td>-0.123178</td>\n",
       "      <td>0.102725</td>\n",
       "      <td>-0.184513</td>\n",
       "      <td>-0.000054</td>\n",
       "      <td>0.011270</td>\n",
       "      <td>0.100001</td>\n",
       "      <td>...</td>\n",
       "      <td>-0.281064</td>\n",
       "      <td>-0.229433</td>\n",
       "      <td>0.043047</td>\n",
       "      <td>0.208372</td>\n",
       "      <td>-0.054231</td>\n",
       "      <td>-0.270740</td>\n",
       "      <td>-0.495809</td>\n",
       "      <td>0.040098</td>\n",
       "      <td>0.270760</td>\n",
       "      <td>-0.514386</td>\n",
       "    </tr>\n",
       "    <tr>\n",
       "      <th>2</th>\n",
       "      <td>-1.252347</td>\n",
       "      <td>-0.127711</td>\n",
       "      <td>-0.355506</td>\n",
       "      <td>-0.585498</td>\n",
       "      <td>0.148654</td>\n",
       "      <td>0.111663</td>\n",
       "      <td>0.091791</td>\n",
       "      <td>-0.018631</td>\n",
       "      <td>-0.094904</td>\n",
       "      <td>0.198062</td>\n",
       "      <td>...</td>\n",
       "      <td>0.009446</td>\n",
       "      <td>0.063616</td>\n",
       "      <td>0.075767</td>\n",
       "      <td>-0.021353</td>\n",
       "      <td>-0.056342</td>\n",
       "      <td>0.008052</td>\n",
       "      <td>0.084104</td>\n",
       "      <td>0.085170</td>\n",
       "      <td>0.005156</td>\n",
       "      <td>0.060981</td>\n",
       "    </tr>\n",
       "    <tr>\n",
       "      <th>3</th>\n",
       "      <td>-3.255259</td>\n",
       "      <td>0.228883</td>\n",
       "      <td>0.348423</td>\n",
       "      <td>-0.582976</td>\n",
       "      <td>0.387481</td>\n",
       "      <td>-0.280264</td>\n",
       "      <td>0.299342</td>\n",
       "      <td>-0.022313</td>\n",
       "      <td>0.533324</td>\n",
       "      <td>1.115999</td>\n",
       "      <td>...</td>\n",
       "      <td>0.095799</td>\n",
       "      <td>0.216185</td>\n",
       "      <td>-0.095563</td>\n",
       "      <td>-0.075910</td>\n",
       "      <td>0.089047</td>\n",
       "      <td>-0.291497</td>\n",
       "      <td>0.014230</td>\n",
       "      <td>-0.071984</td>\n",
       "      <td>-0.215797</td>\n",
       "      <td>0.048647</td>\n",
       "    </tr>\n",
       "    <tr>\n",
       "      <th>4</th>\n",
       "      <td>0.285086</td>\n",
       "      <td>-0.150595</td>\n",
       "      <td>-0.747294</td>\n",
       "      <td>0.300815</td>\n",
       "      <td>-0.588138</td>\n",
       "      <td>0.319878</td>\n",
       "      <td>-0.141804</td>\n",
       "      <td>0.006020</td>\n",
       "      <td>-0.413576</td>\n",
       "      <td>-1.152549</td>\n",
       "      <td>...</td>\n",
       "      <td>-0.288888</td>\n",
       "      <td>0.025726</td>\n",
       "      <td>0.388666</td>\n",
       "      <td>-0.376435</td>\n",
       "      <td>0.079918</td>\n",
       "      <td>0.014274</td>\n",
       "      <td>0.147027</td>\n",
       "      <td>-0.193611</td>\n",
       "      <td>-0.226973</td>\n",
       "      <td>0.290897</td>\n",
       "    </tr>\n",
       "    <tr>\n",
       "      <th>...</th>\n",
       "      <td>...</td>\n",
       "      <td>...</td>\n",
       "      <td>...</td>\n",
       "      <td>...</td>\n",
       "      <td>...</td>\n",
       "      <td>...</td>\n",
       "      <td>...</td>\n",
       "      <td>...</td>\n",
       "      <td>...</td>\n",
       "      <td>...</td>\n",
       "      <td>...</td>\n",
       "      <td>...</td>\n",
       "      <td>...</td>\n",
       "      <td>...</td>\n",
       "      <td>...</td>\n",
       "      <td>...</td>\n",
       "      <td>...</td>\n",
       "      <td>...</td>\n",
       "      <td>...</td>\n",
       "      <td>...</td>\n",
       "      <td>...</td>\n",
       "    </tr>\n",
       "    <tr>\n",
       "      <th>59995</th>\n",
       "      <td>5.118700</td>\n",
       "      <td>-1.390744</td>\n",
       "      <td>-3.591526</td>\n",
       "      <td>-0.643308</td>\n",
       "      <td>-0.682376</td>\n",
       "      <td>0.814888</td>\n",
       "      <td>-0.799735</td>\n",
       "      <td>0.024634</td>\n",
       "      <td>-0.904494</td>\n",
       "      <td>-1.345411</td>\n",
       "      <td>...</td>\n",
       "      <td>-0.407423</td>\n",
       "      <td>-0.034555</td>\n",
       "      <td>0.419497</td>\n",
       "      <td>-0.097266</td>\n",
       "      <td>0.072958</td>\n",
       "      <td>-0.363291</td>\n",
       "      <td>-0.396520</td>\n",
       "      <td>0.036579</td>\n",
       "      <td>0.352082</td>\n",
       "      <td>-0.276891</td>\n",
       "    </tr>\n",
       "    <tr>\n",
       "      <th>59996</th>\n",
       "      <td>-3.126308</td>\n",
       "      <td>0.136270</td>\n",
       "      <td>0.178339</td>\n",
       "      <td>-0.613330</td>\n",
       "      <td>0.437261</td>\n",
       "      <td>-0.206002</td>\n",
       "      <td>0.198643</td>\n",
       "      <td>-0.023060</td>\n",
       "      <td>0.384521</td>\n",
       "      <td>0.623354</td>\n",
       "      <td>...</td>\n",
       "      <td>0.266534</td>\n",
       "      <td>0.017691</td>\n",
       "      <td>-0.045460</td>\n",
       "      <td>0.106889</td>\n",
       "      <td>-0.046130</td>\n",
       "      <td>-0.108442</td>\n",
       "      <td>-0.087508</td>\n",
       "      <td>0.006577</td>\n",
       "      <td>0.069379</td>\n",
       "      <td>0.074538</td>\n",
       "    </tr>\n",
       "    <tr>\n",
       "      <th>59997</th>\n",
       "      <td>-3.250731</td>\n",
       "      <td>0.128958</td>\n",
       "      <td>0.256914</td>\n",
       "      <td>-0.693550</td>\n",
       "      <td>0.485970</td>\n",
       "      <td>-0.258481</td>\n",
       "      <td>0.245068</td>\n",
       "      <td>-0.026687</td>\n",
       "      <td>0.467216</td>\n",
       "      <td>0.890471</td>\n",
       "      <td>...</td>\n",
       "      <td>0.293456</td>\n",
       "      <td>0.002354</td>\n",
       "      <td>-0.030673</td>\n",
       "      <td>0.080895</td>\n",
       "      <td>-0.064020</td>\n",
       "      <td>-0.085615</td>\n",
       "      <td>-0.061388</td>\n",
       "      <td>0.018981</td>\n",
       "      <td>0.054486</td>\n",
       "      <td>0.123076</td>\n",
       "    </tr>\n",
       "    <tr>\n",
       "      <th>59998</th>\n",
       "      <td>2.403234</td>\n",
       "      <td>-2.673268</td>\n",
       "      <td>-1.736793</td>\n",
       "      <td>1.006774</td>\n",
       "      <td>-0.120246</td>\n",
       "      <td>1.247779</td>\n",
       "      <td>-1.650527</td>\n",
       "      <td>-0.030212</td>\n",
       "      <td>0.077628</td>\n",
       "      <td>0.202400</td>\n",
       "      <td>...</td>\n",
       "      <td>-0.101091</td>\n",
       "      <td>0.556293</td>\n",
       "      <td>-0.026484</td>\n",
       "      <td>-0.680505</td>\n",
       "      <td>1.087159</td>\n",
       "      <td>0.473058</td>\n",
       "      <td>0.425954</td>\n",
       "      <td>-0.258588</td>\n",
       "      <td>-0.651007</td>\n",
       "      <td>0.250924</td>\n",
       "    </tr>\n",
       "    <tr>\n",
       "      <th>59999</th>\n",
       "      <td>-0.774817</td>\n",
       "      <td>-0.472518</td>\n",
       "      <td>-0.346533</td>\n",
       "      <td>0.110800</td>\n",
       "      <td>0.217179</td>\n",
       "      <td>0.027092</td>\n",
       "      <td>-0.216186</td>\n",
       "      <td>-0.001452</td>\n",
       "      <td>-0.427138</td>\n",
       "      <td>-0.652630</td>\n",
       "      <td>...</td>\n",
       "      <td>0.189490</td>\n",
       "      <td>0.055032</td>\n",
       "      <td>-0.230465</td>\n",
       "      <td>0.016978</td>\n",
       "      <td>-0.032206</td>\n",
       "      <td>-0.143414</td>\n",
       "      <td>-0.026269</td>\n",
       "      <td>0.068697</td>\n",
       "      <td>0.121188</td>\n",
       "      <td>0.143816</td>\n",
       "    </tr>\n",
       "  </tbody>\n",
       "</table>\n",
       "<p>60000 rows × 82 columns</p>\n",
       "</div>"
      ],
      "text/plain": [
       "             0         1         2         3         4         5         6   \\\n",
       "0      2.407533 -1.275187 -1.550152  0.980419 -0.083018  0.754907 -0.471116   \n",
       "1     -0.610388 -0.481413  0.008950  0.121946 -0.123178  0.102725 -0.184513   \n",
       "2     -1.252347 -0.127711 -0.355506 -0.585498  0.148654  0.111663  0.091791   \n",
       "3     -3.255259  0.228883  0.348423 -0.582976  0.387481 -0.280264  0.299342   \n",
       "4      0.285086 -0.150595 -0.747294  0.300815 -0.588138  0.319878 -0.141804   \n",
       "...         ...       ...       ...       ...       ...       ...       ...   \n",
       "59995  5.118700 -1.390744 -3.591526 -0.643308 -0.682376  0.814888 -0.799735   \n",
       "59996 -3.126308  0.136270  0.178339 -0.613330  0.437261 -0.206002  0.198643   \n",
       "59997 -3.250731  0.128958  0.256914 -0.693550  0.485970 -0.258481  0.245068   \n",
       "59998  2.403234 -2.673268 -1.736793  1.006774 -0.120246  1.247779 -1.650527   \n",
       "59999 -0.774817 -0.472518 -0.346533  0.110800  0.217179  0.027092 -0.216186   \n",
       "\n",
       "             7         8         9   ...        72        73        74  \\\n",
       "0     -0.001142 -0.185602 -1.329810  ... -0.299811  0.189246 -0.115952   \n",
       "1     -0.000054  0.011270  0.100001  ... -0.281064 -0.229433  0.043047   \n",
       "2     -0.018631 -0.094904  0.198062  ...  0.009446  0.063616  0.075767   \n",
       "3     -0.022313  0.533324  1.115999  ...  0.095799  0.216185 -0.095563   \n",
       "4      0.006020 -0.413576 -1.152549  ... -0.288888  0.025726  0.388666   \n",
       "...         ...       ...       ...  ...       ...       ...       ...   \n",
       "59995  0.024634 -0.904494 -1.345411  ... -0.407423 -0.034555  0.419497   \n",
       "59996 -0.023060  0.384521  0.623354  ...  0.266534  0.017691 -0.045460   \n",
       "59997 -0.026687  0.467216  0.890471  ...  0.293456  0.002354 -0.030673   \n",
       "59998 -0.030212  0.077628  0.202400  ... -0.101091  0.556293 -0.026484   \n",
       "59999 -0.001452 -0.427138 -0.652630  ...  0.189490  0.055032 -0.230465   \n",
       "\n",
       "             75        76        77        78        79        80        81  \n",
       "0     -0.649872 -0.098207  0.501070  0.461358  0.106849 -0.152670 -0.111830  \n",
       "1      0.208372 -0.054231 -0.270740 -0.495809  0.040098  0.270760 -0.514386  \n",
       "2     -0.021353 -0.056342  0.008052  0.084104  0.085170  0.005156  0.060981  \n",
       "3     -0.075910  0.089047 -0.291497  0.014230 -0.071984 -0.215797  0.048647  \n",
       "4     -0.376435  0.079918  0.014274  0.147027 -0.193611 -0.226973  0.290897  \n",
       "...         ...       ...       ...       ...       ...       ...       ...  \n",
       "59995 -0.097266  0.072958 -0.363291 -0.396520  0.036579  0.352082 -0.276891  \n",
       "59996  0.106889 -0.046130 -0.108442 -0.087508  0.006577  0.069379  0.074538  \n",
       "59997  0.080895 -0.064020 -0.085615 -0.061388  0.018981  0.054486  0.123076  \n",
       "59998 -0.680505  1.087159  0.473058  0.425954 -0.258588 -0.651007  0.250924  \n",
       "59999  0.016978 -0.032206 -0.143414 -0.026269  0.068697  0.121188  0.143816  \n",
       "\n",
       "[60000 rows x 82 columns]"
      ]
     },
     "execution_count": 194,
     "metadata": {},
     "output_type": "execute_result"
    }
   ],
   "source": [
    "df_X"
   ]
  },
  {
   "cell_type": "markdown",
   "metadata": {},
   "source": [
    "### Classification"
   ]
  },
  {
   "cell_type": "code",
   "execution_count": 195,
   "metadata": {},
   "outputs": [],
   "source": [
    "from imblearn.under_sampling import RandomUnderSampler\n",
    "\n",
    "Y = Y.map({'neg':0, 'pos':1})\n",
    "rus = RandomUnderSampler()\n",
    "X_rus, y_rus = rus.fit_sample(X, Y)"
   ]
  },
  {
   "cell_type": "code",
   "execution_count": 196,
   "metadata": {},
   "outputs": [
    {
     "name": "stdout",
     "output_type": "stream",
     "text": [
      "(60000, 170)\n",
      "(2000, 170)\n"
     ]
    }
   ],
   "source": [
    "print(X.shape)\n",
    "print(X_rus.shape)"
   ]
  },
  {
   "cell_type": "code",
   "execution_count": 197,
   "metadata": {},
   "outputs": [
    {
     "name": "stdout",
     "output_type": "stream",
     "text": [
      "Percentage Neg:  0.9833333333333333\n",
      "Percentage Pos:  0.016666666666666666\n"
     ]
    }
   ],
   "source": [
    "print(\"Percentage Neg: \" , len(Y[Y == 0])/len(Y))\n",
    "print(\"Percentage Pos: \", len(Y[Y  == 1])/len(Y))"
   ]
  },
  {
   "cell_type": "code",
   "execution_count": 198,
   "metadata": {},
   "outputs": [
    {
     "name": "stdout",
     "output_type": "stream",
     "text": [
      "Percentage Neg:  0.5\n",
      "Percentage Pos:  0.5\n"
     ]
    }
   ],
   "source": [
    "print(\"Percentage Neg: \" , len(y_rus[y_rus == 0])/len(y_rus))\n",
    "print(\"Percentage Pos: \", len(y_rus[y_rus  == 1])/len(y_rus))"
   ]
  },
  {
   "cell_type": "code",
   "execution_count": 200,
   "metadata": {},
   "outputs": [],
   "source": [
    "X_train,X_val,Y_train,Y_val = train_test_split(X_rus, y_rus, stratify = y_rus, test_size = 0.2,random_state = 0)"
   ]
  },
  {
   "cell_type": "code",
   "execution_count": 201,
   "metadata": {},
   "outputs": [
    {
     "name": "stdout",
     "output_type": "stream",
     "text": [
      "Number of instances for training and validation:\n",
      "(1600, 170)\n",
      "(400, 170)\n"
     ]
    }
   ],
   "source": [
    "print('Number of instances for training and validation:')\n",
    "print(X_train.shape)\n",
    "print(X_val.shape)"
   ]
  },
  {
   "cell_type": "code",
   "execution_count": 179,
   "metadata": {},
   "outputs": [
    {
     "name": "stdout",
     "output_type": "stream",
     "text": [
      "Percentage Neg in validation:  0.0\n",
      "Percentage Pos in validation:  0.0\n"
     ]
    }
   ],
   "source": [
    "print(\"Percentage Neg in validation: \" , len(Y_val[Y_val == 'neg'])/len(Y_val))\n",
    "print(\"Percentage Pos in validation: \", len(Y_val[Y_val == 'pos'])/len(Y_val))"
   ]
  },
  {
   "cell_type": "code",
   "execution_count": 207,
   "metadata": {},
   "outputs": [],
   "source": [
    "lr = LogisticRegression(C = 0.0001, penalty = 'l2')\n",
    "lr.fit(X_train,Y_train)\n",
    "y_pred = lr.predict(X_val)"
   ]
  },
  {
   "cell_type": "code",
   "execution_count": 209,
   "metadata": {},
   "outputs": [
    {
     "name": "stdout",
     "output_type": "stream",
     "text": [
      "              precision    recall  f1-score   support\n",
      "\n",
      "           0       0.85      0.96      0.90       200\n",
      "           1       0.96      0.83      0.89       200\n",
      "\n",
      "    accuracy                           0.90       400\n",
      "   macro avg       0.90      0.90      0.90       400\n",
      "weighted avg       0.90      0.90      0.90       400\n",
      "\n"
     ]
    }
   ],
   "source": [
    "print(classification_report(Y_val,y_pred))"
   ]
  },
  {
   "cell_type": "code",
   "execution_count": null,
   "metadata": {},
   "outputs": [],
   "source": [
    "confusion_matrix(Y,y_pred)"
   ]
  }
 ],
 "metadata": {
  "kernelspec": {
   "display_name": "Python 3",
   "language": "python",
   "name": "python3"
  },
  "language_info": {
   "codemirror_mode": {
    "name": "ipython",
    "version": 3
   },
   "file_extension": ".py",
   "mimetype": "text/x-python",
   "name": "python",
   "nbconvert_exporter": "python",
   "pygments_lexer": "ipython3",
   "version": "3.7.3"
  }
 },
 "nbformat": 4,
 "nbformat_minor": 4
}
